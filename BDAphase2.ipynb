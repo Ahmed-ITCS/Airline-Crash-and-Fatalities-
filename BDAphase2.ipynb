{
  "nbformat": 4,
  "nbformat_minor": 0,
  "metadata": {
    "colab": {
      "provenance": []
    },
    "kernelspec": {
      "name": "python3",
      "display_name": "Python 3"
    },
    "language_info": {
      "name": "python"
    }
  },
  "cells": [
    {
      "cell_type": "code",
      "execution_count": 6,
      "metadata": {
        "colab": {
          "base_uri": "https://localhost:8080/",
          "height": 821
        },
        "id": "gQ45LnY9OjQk",
        "outputId": "d016a85f-569f-4382-868b-6b33535d4c20"
      },
      "outputs": [
        {
          "output_type": "stream",
          "name": "stdout",
          "text": [
            "<class 'pandas.core.frame.DataFrame'>\n",
            "RangeIndex: 5268 entries, 0 to 5267\n",
            "Data columns (total 13 columns):\n",
            " #   Column        Non-Null Count  Dtype  \n",
            "---  ------        --------------  -----  \n",
            " 0   Date          5268 non-null   object \n",
            " 1   Time          3049 non-null   object \n",
            " 2   Location      5248 non-null   object \n",
            " 3   Operator      5250 non-null   object \n",
            " 4   Flight #      1069 non-null   object \n",
            " 5   Route         3562 non-null   object \n",
            " 6   Type          5241 non-null   object \n",
            " 7   Registration  4933 non-null   object \n",
            " 8   cn/In         4040 non-null   object \n",
            " 9   Aboard        5246 non-null   float64\n",
            " 10  Fatalities    5256 non-null   float64\n",
            " 11  Ground        5246 non-null   float64\n",
            " 12  Summary       4878 non-null   object \n",
            "dtypes: float64(3), object(10)\n",
            "memory usage: 535.2+ KB\n",
            "None\n",
            "------ ['Time', 'Location', 'Operator', 'Flight #', 'Route', 'Type', 'Registration', 'cn/In', 'Aboard', 'Fatalities', 'Ground', 'Summary']\n",
            "|\n",
            "|\n",
            "<class 'pandas.core.frame.DataFrame'>\n",
            "Int64Index: 944 entries, 208 to 5265\n",
            "Data columns (total 13 columns):\n",
            " #   Column        Non-Null Count  Dtype \n",
            "---  ------        --------------  ----- \n",
            " 0   date          944 non-null    object\n",
            " 1   time          944 non-null    object\n",
            " 2   location      944 non-null    object\n",
            " 3   operator      944 non-null    object\n",
            " 4   flight #      944 non-null    object\n",
            " 5   pathway       944 non-null    object\n",
            " 6   type          944 non-null    object\n",
            " 7   registration  944 non-null    object\n",
            " 8   cn/in         944 non-null    object\n",
            " 9   aboard        944 non-null    object\n",
            " 10  fatalities    944 non-null    object\n",
            " 11  ground        944 non-null    object\n",
            " 12  summary       944 non-null    object\n",
            "dtypes: object(13)\n",
            "memory usage: 103.2+ KB\n",
            "None\n"
          ]
        },
        {
          "output_type": "display_data",
          "data": {
            "text/plain": [
              "<IPython.core.display.Javascript object>"
            ],
            "application/javascript": [
              "\n",
              "    async function download(id, filename, size) {\n",
              "      if (!google.colab.kernel.accessAllowed) {\n",
              "        return;\n",
              "      }\n",
              "      const div = document.createElement('div');\n",
              "      const label = document.createElement('label');\n",
              "      label.textContent = `Downloading \"${filename}\": `;\n",
              "      div.appendChild(label);\n",
              "      const progress = document.createElement('progress');\n",
              "      progress.max = size;\n",
              "      div.appendChild(progress);\n",
              "      document.body.appendChild(div);\n",
              "\n",
              "      const buffers = [];\n",
              "      let downloaded = 0;\n",
              "\n",
              "      const channel = await google.colab.kernel.comms.open(id);\n",
              "      // Send a message to notify the kernel that we're ready.\n",
              "      channel.send({})\n",
              "\n",
              "      for await (const message of channel.messages) {\n",
              "        // Send a message to notify the kernel that we're ready.\n",
              "        channel.send({})\n",
              "        if (message.buffers) {\n",
              "          for (const buffer of message.buffers) {\n",
              "            buffers.push(buffer);\n",
              "            downloaded += buffer.byteLength;\n",
              "            progress.value = downloaded;\n",
              "          }\n",
              "        }\n",
              "      }\n",
              "      const blob = new Blob(buffers, {type: 'application/binary'});\n",
              "      const a = document.createElement('a');\n",
              "      a.href = window.URL.createObjectURL(blob);\n",
              "      a.download = filename;\n",
              "      div.appendChild(a);\n",
              "      a.click();\n",
              "      div.remove();\n",
              "    }\n",
              "  "
            ]
          },
          "metadata": {}
        },
        {
          "output_type": "display_data",
          "data": {
            "text/plain": [
              "<IPython.core.display.Javascript object>"
            ],
            "application/javascript": [
              "download(\"download_12fd0556-2cc8-4043-8c2c-22adf836bf33\", \"cleaned_Airplane_crashes.csv\", 515607)"
            ]
          },
          "metadata": {}
        }
      ],
      "source": [
        "import pandas as pd\n",
        "\"\"\"\n",
        "from google.colab import files  #used to import dataset from system\n",
        "f = files.upload()\n",
        "\"\"\"\n",
        "#load the dataset in variable df\n",
        "df = pd.read_csv('Airplane_Crashes_and_Fatalities_Since_1908.csv')\n",
        "#gives the information about data set\n",
        "print(df.info())\n",
        "# remove duplicate columns\n",
        "df = df.loc[:, ~df.columns.duplicated()]\n",
        "# Check for duplicate rows and droping those\n",
        "df = df.drop_duplicates()\n",
        "# Checking for column for NaN values and droping those rows\n",
        "nan_columns = df.columns[df.isna().any()].tolist()\n",
        "df.dropna(inplace=True)\n",
        "# Renaming columns\n",
        "df.columns = df.columns.str.replace('Route', 'PathWay').str.lower()\n",
        "# Conversion of values to lowercase letters\n",
        "df = df.apply(lambda Location: Location.astype(str).str.lower())\n",
        "# Removal of extra spaces\n",
        "df = df.apply(lambda Location: Location.str.strip() if Location.dtype == \"object\" else Location)\n",
        "# Conversion of binary values to 1 and 0\n",
        "binary_columns = ['aboard']  # Specify columns with binary values\n",
        "df[binary_columns] = df[binary_columns].replace({r'^-?\\d+$': lambda x: int(x) if pd.notna(x) else x}, regex=True)\n",
        "\n",
        "# Transfer cleaned data to a new table\n",
        "cleaned_df = df.copy()\n",
        "\n",
        "# Exploratory Data Analysis (EDA)\n",
        "# Example: Display basic statistics\n",
        "print(\"|\")\n",
        "print(\"|\")\n",
        "\n",
        "print(cleaned_df.info())\n",
        "\n",
        "from google.colab import files\n",
        "cleaned_df.to_csv('cleaned_Airplane_crashes.csv', index=True)\n",
        "files.download('cleaned_Airplane_crashes.csv')\n"
      ]
    }
  ]
}